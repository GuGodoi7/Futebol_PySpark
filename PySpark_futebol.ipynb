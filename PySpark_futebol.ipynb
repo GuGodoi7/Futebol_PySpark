{
  "nbformat": 4,
  "nbformat_minor": 0,
  "metadata": {
    "colab": {
      "provenance": [],
      "authorship_tag": "ABX9TyOROetnS4P6OyGtVz8xJP0i",
      "include_colab_link": true
    },
    "kernelspec": {
      "name": "python3",
      "display_name": "Python 3"
    },
    "language_info": {
      "name": "python"
    }
  },
  "cells": [
    {
      "cell_type": "markdown",
      "metadata": {
        "id": "view-in-github",
        "colab_type": "text"
      },
      "source": [
        "<a href=\"https://colab.research.google.com/github/GuGodoi7/Futebol_PySpark/blob/main/PySpark_futebol.ipynb\" target=\"_parent\"><img src=\"https://colab.research.google.com/assets/colab-badge.svg\" alt=\"Open In Colab\"/></a>"
      ]
    },
    {
      "cell_type": "markdown",
      "source": [
        "Install PySpark"
      ],
      "metadata": {
        "id": "U3GBxsVsI_NA"
      }
    },
    {
      "cell_type": "code",
      "source": [
        "from pyspark.sql import SparkSession\n",
        "\n",
        "from pyspark.sql.functions import *\n",
        "\n",
        "from pyspark.sql.types import *"
      ],
      "metadata": {
        "id": "Hm0TE9mLI9Mu"
      },
      "execution_count": null,
      "outputs": []
    },
    {
      "cell_type": "markdown",
      "source": [
        "Criar / iniciar sessão PySpark"
      ],
      "metadata": {
        "id": "IsOkdyMIJ2ix"
      }
    },
    {
      "cell_type": "code",
      "source": [
        "spark = (\n",
        "    SparkSession.builder\n",
        "    .master('local')\n",
        "    .appName('PySpark_futebol')\n",
        "    .getOrCreate()\n",
        ")"
      ],
      "metadata": {
        "id": "wiRuhSVvJ0Xz"
      },
      "execution_count": null,
      "outputs": []
    },
    {
      "cell_type": "markdown",
      "source": [
        "Criar data frame (df) / ler arquivo"
      ],
      "metadata": {
        "id": "-pbVicdTLHYT"
      }
    },
    {
      "cell_type": "code",
      "source": [
        "df = spark.read.csv('wc2018-players.csv', header=True, inferSchema=True)"
      ],
      "metadata": {
        "id": "BKtbtrK7LHJn"
      },
      "execution_count": null,
      "outputs": []
    },
    {
      "cell_type": "markdown",
      "source": [
        "mostar data frame"
      ],
      "metadata": {
        "id": "fMWS6rAiM6f9"
      }
    },
    {
      "cell_type": "code",
      "source": [
        "df.show(5)"
      ],
      "metadata": {
        "colab": {
          "base_uri": "https://localhost:8080/"
        },
        "id": "wkVod8WONA93",
        "outputId": "396b79a4-0a3b-441f-ef32-b17235633943"
      },
      "execution_count": null,
      "outputs": [
        {
          "output_type": "stream",
          "name": "stdout",
          "text": [
            "+---------+---+----+------------------+----------+----------+--------------------+------+------+\n",
            "|     Team|  #|Pos.| FIFA Popular Name|Birth Date|Shirt Name|                Club|Height|Weight|\n",
            "+---------+---+----+------------------+----------+----------+--------------------+------+------+\n",
            "|Argentina|  3|  DF|TAGLIAFICO Nicolas|31.08.1992|TAGLIAFICO|      AFC Ajax (NED)|   169|    65|\n",
            "|Argentina| 22|  MF|    PAVON Cristian|21.01.1996|     PAVÓN|CA Boca Juniors (...|   169|    65|\n",
            "|Argentina| 15|  MF|    LANZINI Manuel|15.02.1993|   LANZINI|West Ham United F...|   167|    66|\n",
            "|Argentina| 18|  DF|    SALVIO Eduardo|13.07.1990|    SALVIO|    SL Benfica (POR)|   167|    69|\n",
            "|Argentina| 10|  FW|      MESSI Lionel|24.06.1987|     MESSI|  FC Barcelona (ESP)|   170|    72|\n",
            "+---------+---+----+------------------+----------+----------+--------------------+------+------+\n",
            "only showing top 5 rows\n",
            "\n"
          ]
        }
      ]
    },
    {
      "cell_type": "markdown",
      "source": [
        "ver o tipo do campo\n"
      ],
      "metadata": {
        "id": "MM_qSg7HNwQL"
      }
    },
    {
      "cell_type": "code",
      "source": [
        "df.printSchema()"
      ],
      "metadata": {
        "colab": {
          "base_uri": "https://localhost:8080/"
        },
        "id": "w8jtco5wNv68",
        "outputId": "d897fcff-330b-4fe0-a995-47521d29a4e2"
      },
      "execution_count": null,
      "outputs": [
        {
          "output_type": "stream",
          "name": "stdout",
          "text": [
            "root\n",
            " |-- Team: string (nullable = true)\n",
            " |-- #: integer (nullable = true)\n",
            " |-- Pos.: string (nullable = true)\n",
            " |-- FIFA Popular Name: string (nullable = true)\n",
            " |-- Birth Date: string (nullable = true)\n",
            " |-- Shirt Name: string (nullable = true)\n",
            " |-- Club: string (nullable = true)\n",
            " |-- Height: integer (nullable = true)\n",
            " |-- Weight: integer (nullable = true)\n",
            "\n"
          ]
        }
      ]
    },
    {
      "cell_type": "markdown",
      "source": [
        "Renomeando colunas (a Pos. ta dando errado na hr de verificar valores nulos por conta do '.')"
      ],
      "metadata": {
        "id": "3kM7jSncOxr1"
      }
    },
    {
      "cell_type": "code",
      "source": [
        "df = df.withColumnRenamed('Pos.', 'Pos')"
      ],
      "metadata": {
        "id": "BhJftLoGPAdy"
      },
      "execution_count": null,
      "outputs": []
    },
    {
      "cell_type": "markdown",
      "source": [
        "ve se tem valores nulos\n"
      ],
      "metadata": {
        "id": "WqIZ9vrqONvl"
      }
    },
    {
      "cell_type": "code",
      "source": [
        "for colunas in df.columns:\n",
        "  print(colunas, df.filter(df[colunas].isNull()).count())"
      ],
      "metadata": {
        "colab": {
          "base_uri": "https://localhost:8080/"
        },
        "id": "j9JjxaRGOQIH",
        "outputId": "24eae32d-9b1e-4905-c1a6-2e4cbd9e6e28"
      },
      "execution_count": null,
      "outputs": [
        {
          "output_type": "stream",
          "name": "stdout",
          "text": [
            "Team 0\n",
            "# 0\n",
            "Pos 0\n",
            "FIFA Popular Name 0\n",
            "Birth Date 0\n",
            "Shirt Name 0\n",
            "Club 0\n",
            "Height 0\n",
            "Weight 0\n"
          ]
        }
      ]
    },
    {
      "cell_type": "markdown",
      "source": [
        "selecionar colunas\n"
      ],
      "metadata": {
        "id": "O45_4Yjl20kL"
      }
    },
    {
      "cell_type": "code",
      "source": [
        "df.select('team', 'FIFA Popular Name').show(5)"
      ],
      "metadata": {
        "colab": {
          "base_uri": "https://localhost:8080/"
        },
        "id": "Lh22G3eW22HB",
        "outputId": "0c1a62d3-4eca-4e60-989d-6d2e7e0e8c30"
      },
      "execution_count": null,
      "outputs": [
        {
          "output_type": "stream",
          "name": "stdout",
          "text": [
            "+---------+------------------+\n",
            "|     team| FIFA Popular Name|\n",
            "+---------+------------------+\n",
            "|Argentina|TAGLIAFICO Nicolas|\n",
            "|Argentina|    PAVON Cristian|\n",
            "|Argentina|    LANZINI Manuel|\n",
            "|Argentina|    SALVIO Eduardo|\n",
            "|Argentina|      MESSI Lionel|\n",
            "+---------+------------------+\n",
            "only showing top 5 rows\n",
            "\n"
          ]
        }
      ]
    },
    {
      "cell_type": "code",
      "source": [
        "df.select(col('team'), col('Club')).show(5)\n"
      ],
      "metadata": {
        "colab": {
          "base_uri": "https://localhost:8080/"
        },
        "id": "tPkfvyyu3e5l",
        "outputId": "95992263-ed2b-4262-efd6-f8d5ee403fd2"
      },
      "execution_count": null,
      "outputs": [
        {
          "output_type": "stream",
          "name": "stdout",
          "text": [
            "+---------+--------------------+\n",
            "|     team|                Club|\n",
            "+---------+--------------------+\n",
            "|Argentina|      AFC Ajax (NED)|\n",
            "|Argentina|CA Boca Juniors (...|\n",
            "|Argentina|West Ham United F...|\n",
            "|Argentina|    SL Benfica (POR)|\n",
            "|Argentina|  FC Barcelona (ESP)|\n",
            "+---------+--------------------+\n",
            "only showing top 5 rows\n",
            "\n"
          ]
        }
      ]
    },
    {
      "cell_type": "markdown",
      "source": [
        "selecunar colunas com ALIAS"
      ],
      "metadata": {
        "id": "ZJneUuBz3z_1"
      }
    },
    {
      "cell_type": "code",
      "source": [
        "df.select(col('team').alias('Seleção'), col('Club').alias('Clube')).show(5)"
      ],
      "metadata": {
        "colab": {
          "base_uri": "https://localhost:8080/"
        },
        "id": "R75OtRic3zyy",
        "outputId": "157be8e6-b698-417a-c97f-2c16bc425ea8"
      },
      "execution_count": null,
      "outputs": [
        {
          "output_type": "stream",
          "name": "stdout",
          "text": [
            "+---------+--------------------+\n",
            "|  Seleção|               Clube|\n",
            "+---------+--------------------+\n",
            "|Argentina|      AFC Ajax (NED)|\n",
            "|Argentina|CA Boca Juniors (...|\n",
            "|Argentina|West Ham United F...|\n",
            "|Argentina|    SL Benfica (POR)|\n",
            "|Argentina|  FC Barcelona (ESP)|\n",
            "+---------+--------------------+\n",
            "only showing top 5 rows\n",
            "\n"
          ]
        }
      ]
    },
    {
      "cell_type": "markdown",
      "source": [
        "Organizar select\n"
      ],
      "metadata": {
        "id": "bkh6J2m54W_4"
      }
    },
    {
      "cell_type": "code",
      "source": [
        "df.select('FIFA Popular Name', 'Pos', 'Height', 'Weight').show(5)"
      ],
      "metadata": {
        "colab": {
          "base_uri": "https://localhost:8080/"
        },
        "id": "K1CnFOoJ4J3e",
        "outputId": "93fa13b8-d979-4766-a428-13bc41021192"
      },
      "execution_count": null,
      "outputs": [
        {
          "output_type": "stream",
          "name": "stdout",
          "text": [
            "+------------------+---+------+------+\n",
            "| FIFA Popular Name|Pos|Height|Weight|\n",
            "+------------------+---+------+------+\n",
            "|TAGLIAFICO Nicolas| DF|   169|    65|\n",
            "|    PAVON Cristian| MF|   169|    65|\n",
            "|    LANZINI Manuel| MF|   167|    66|\n",
            "|    SALVIO Eduardo| DF|   167|    69|\n",
            "|      MESSI Lionel| FW|   170|    72|\n",
            "+------------------+---+------+------+\n",
            "only showing top 5 rows\n",
            "\n"
          ]
        }
      ]
    },
    {
      "cell_type": "markdown",
      "source": [
        "filtrar df"
      ],
      "metadata": {
        "id": "MdqjxLF05GJA"
      }
    },
    {
      "cell_type": "code",
      "source": [
        "df.filter(df['team'] == 'Brazil').show(5)"
      ],
      "metadata": {
        "colab": {
          "base_uri": "https://localhost:8080/"
        },
        "id": "FqBEaBzG5L76",
        "outputId": "d184daa1-bb20-4766-9823-5236012bbeb6"
      },
      "execution_count": null,
      "outputs": [
        {
          "output_type": "stream",
          "name": "stdout",
          "text": [
            "+------+---+---+-----------------+----------+-----------+--------------------+------+------+\n",
            "|  Team|  #|Pos|FIFA Popular Name|Birth Date| Shirt Name|                Club|Height|Weight|\n",
            "+------+---+---+-----------------+----------+-----------+--------------------+------+------+\n",
            "|Brazil| 18| MF|             FRED|05.03.1993|       FRED|FC Shakhtar Donet...|   169|    64|\n",
            "|Brazil| 21| FW|           TAISON|13.01.1988|     TAISON|FC Shakhtar Donet...|   172|    64|\n",
            "|Brazil| 17| MF|      FERNANDINHO|04.05.1985|FERNANDINHO|Manchester City F...|   179|    67|\n",
            "|Brazil| 22| DF|           FAGNER|11.06.1989|     FAGNER|SC Corinthians (BRA)|   168|    67|\n",
            "|Brazil| 10| FW|           NEYMAR|05.02.1992|  NEYMAR JR|Paris Saint-Germa...|   175|    68|\n",
            "+------+---+---+-----------------+----------+-----------+--------------------+------+------+\n",
            "only showing top 5 rows\n",
            "\n"
          ]
        }
      ]
    },
    {
      "cell_type": "markdown",
      "source": [
        "filtrar df com duas condiçoes (\n",
        "  &)"
      ],
      "metadata": {
        "id": "Ozf3U3gm6EyK"
      }
    },
    {
      "cell_type": "code",
      "source": [
        "df.show(5)"
      ],
      "metadata": {
        "colab": {
          "base_uri": "https://localhost:8080/"
        },
        "id": "giIwoRZf6Kcz",
        "outputId": "a43c5d73-39b0-4ce8-aef4-fd740158f48c"
      },
      "execution_count": null,
      "outputs": [
        {
          "output_type": "stream",
          "name": "stdout",
          "text": [
            "+---------+---+---+------------------+----------+----------+--------------------+------+------+\n",
            "|     Team|  #|Pos| FIFA Popular Name|Birth Date|Shirt Name|                Club|Height|Weight|\n",
            "+---------+---+---+------------------+----------+----------+--------------------+------+------+\n",
            "|Argentina|  3| DF|TAGLIAFICO Nicolas|31.08.1992|TAGLIAFICO|      AFC Ajax (NED)|   169|    65|\n",
            "|Argentina| 22| MF|    PAVON Cristian|21.01.1996|     PAVÓN|CA Boca Juniors (...|   169|    65|\n",
            "|Argentina| 15| MF|    LANZINI Manuel|15.02.1993|   LANZINI|West Ham United F...|   167|    66|\n",
            "|Argentina| 18| DF|    SALVIO Eduardo|13.07.1990|    SALVIO|    SL Benfica (POR)|   167|    69|\n",
            "|Argentina| 10| FW|      MESSI Lionel|24.06.1987|     MESSI|  FC Barcelona (ESP)|   170|    72|\n",
            "+---------+---+---+------------------+----------+----------+--------------------+------+------+\n",
            "only showing top 5 rows\n",
            "\n"
          ]
        }
      ]
    },
    {
      "cell_type": "code",
      "source": [
        "df.filter((df['team'] == 'Brazil') & (df['Pos'] == 'GK')).show(5)"
      ],
      "metadata": {
        "colab": {
          "base_uri": "https://localhost:8080/"
        },
        "id": "lFyZ90ga6Nqc",
        "outputId": "9de83685-3327-4097-9362-91a2c04505c7"
      },
      "execution_count": null,
      "outputs": [
        {
          "output_type": "stream",
          "name": "stdout",
          "text": [
            "+------+---+---+-----------------+----------+----------+--------------------+------+------+\n",
            "|  Team|  #|Pos|FIFA Popular Name|Birth Date|Shirt Name|                Club|Height|Weight|\n",
            "+------+---+---+-----------------+----------+----------+--------------------+------+------+\n",
            "|Brazil| 23| GK|          EDERSON|17.08.1993|   EDERSON|Manchester City F...|   188|    86|\n",
            "|Brazil|  1| GK|          ALISSON|02.10.1992| A. BECKER|       AS Roma (ITA)|   193|    91|\n",
            "|Brazil| 16| GK|           CASSIO|06.06.1987|    CASSIO|SC Corinthians (BRA)|   195|    92|\n",
            "+------+---+---+-----------------+----------+----------+--------------------+------+------+\n",
            "\n"
          ]
        }
      ]
    },
    {
      "cell_type": "markdown",
      "source": [
        "filtrar df com 2 condiçoes (or)\n"
      ],
      "metadata": {
        "id": "nbR9q2Rk7XsT"
      }
    },
    {
      "cell_type": "code",
      "source": [
        "df.filter((df['FIFA Popular Name'] == 'MESSI Lionel') | (df['FIFA Popular Name'] == 'NEYMAR')).show(5)"
      ],
      "metadata": {
        "colab": {
          "base_uri": "https://localhost:8080/"
        },
        "id": "Va9y5uNN6XC8",
        "outputId": "d7e863b5-b9bf-4f09-e4d2-7e9e36184230"
      },
      "execution_count": null,
      "outputs": [
        {
          "output_type": "stream",
          "name": "stdout",
          "text": [
            "+---------+---+---+-----------------+----------+----------+--------------------+------+------+\n",
            "|     Team|  #|Pos|FIFA Popular Name|Birth Date|Shirt Name|                Club|Height|Weight|\n",
            "+---------+---+---+-----------------+----------+----------+--------------------+------+------+\n",
            "|Argentina| 10| FW|     MESSI Lionel|24.06.1987|     MESSI|  FC Barcelona (ESP)|   170|    72|\n",
            "|   Brazil| 10| FW|           NEYMAR|05.02.1992| NEYMAR JR|Paris Saint-Germa...|   175|    68|\n",
            "+---------+---+---+-----------------+----------+----------+--------------------+------+------+\n",
            "\n"
          ]
        }
      ]
    },
    {
      "cell_type": "markdown",
      "source": [
        "criar novas colunas (usando a função lit)\n"
      ],
      "metadata": {
        "id": "SClR_ykq8Xi0"
      }
    },
    {
      "cell_type": "code",
      "source": [
        "df.withColumn('wordCup', lit('2018')).show(5)"
      ],
      "metadata": {
        "colab": {
          "base_uri": "https://localhost:8080/"
        },
        "id": "-rjnPA6e8dil",
        "outputId": "212489d5-35a4-4bbe-8de7-66f954f97221"
      },
      "execution_count": null,
      "outputs": [
        {
          "output_type": "stream",
          "name": "stdout",
          "text": [
            "+---------+---+---+------------------+----------+----------+--------------------+------+------+-------+\n",
            "|     Team|  #|Pos| FIFA Popular Name|Birth Date|Shirt Name|                Club|Height|Weight|wordCup|\n",
            "+---------+---+---+------------------+----------+----------+--------------------+------+------+-------+\n",
            "|Argentina|  3| DF|TAGLIAFICO Nicolas|31.08.1992|TAGLIAFICO|      AFC Ajax (NED)|   169|    65|   2018|\n",
            "|Argentina| 22| MF|    PAVON Cristian|21.01.1996|     PAVÓN|CA Boca Juniors (...|   169|    65|   2018|\n",
            "|Argentina| 15| MF|    LANZINI Manuel|15.02.1993|   LANZINI|West Ham United F...|   167|    66|   2018|\n",
            "|Argentina| 18| DF|    SALVIO Eduardo|13.07.1990|    SALVIO|    SL Benfica (POR)|   167|    69|   2018|\n",
            "|Argentina| 10| FW|      MESSI Lionel|24.06.1987|     MESSI|  FC Barcelona (ESP)|   170|    72|   2018|\n",
            "+---------+---+---+------------------+----------+----------+--------------------+------+------+-------+\n",
            "only showing top 5 rows\n",
            "\n"
          ]
        }
      ]
    },
    {
      "cell_type": "code",
      "source": [
        "df = df.withColumn('sub', substring('team', 1,3))"
      ],
      "metadata": {
        "id": "LB02KSy4AlrG"
      },
      "execution_count": null,
      "outputs": []
    },
    {
      "cell_type": "markdown",
      "source": [
        "criar coluna condicional (usando a f8unção substring)"
      ],
      "metadata": {
        "id": "xENiGVAC9OmH"
      }
    },
    {
      "cell_type": "code",
      "source": [
        "df.show(5)"
      ],
      "metadata": {
        "colab": {
          "base_uri": "https://localhost:8080/"
        },
        "id": "MbSqCwM0AZGB",
        "outputId": "9d29671f-3e31-44a5-b554-390ad4f0c0e9"
      },
      "execution_count": null,
      "outputs": [
        {
          "output_type": "stream",
          "name": "stdout",
          "text": [
            "+---------+---+---+------------------+----------+----------+--------------------+------+------+---+\n",
            "|     Team|  #|Pos| FIFA Popular Name|Birth Date|Shirt Name|                Club|Height|Weight|sub|\n",
            "+---------+---+---+------------------+----------+----------+--------------------+------+------+---+\n",
            "|Argentina|  3| DF|TAGLIAFICO Nicolas|31.08.1992|TAGLIAFICO|      AFC Ajax (NED)|   169|    65|Arg|\n",
            "|Argentina| 22| MF|    PAVON Cristian|21.01.1996|     PAVÓN|CA Boca Juniors (...|   169|    65|Arg|\n",
            "|Argentina| 15| MF|    LANZINI Manuel|15.02.1993|   LANZINI|West Ham United F...|   167|    66|Arg|\n",
            "|Argentina| 18| DF|    SALVIO Eduardo|13.07.1990|    SALVIO|    SL Benfica (POR)|   167|    69|Arg|\n",
            "|Argentina| 10| FW|      MESSI Lionel|24.06.1987|     MESSI|  FC Barcelona (ESP)|   170|    72|Arg|\n",
            "+---------+---+---+------------------+----------+----------+--------------------+------+------+---+\n",
            "only showing top 5 rows\n",
            "\n"
          ]
        }
      ]
    },
    {
      "cell_type": "markdown",
      "source": [
        "Alterar tipo da coluna"
      ],
      "metadata": {
        "id": "FTRg1o9jByNz"
      }
    },
    {
      "cell_type": "code",
      "source": [
        "#df = df.withColunm('Ano', col('ano').cast(intergerTyoe()))"
      ],
      "metadata": {
        "id": "AilvHbVjBjnd"
      },
      "execution_count": null,
      "outputs": []
    },
    {
      "cell_type": "markdown",
      "source": [
        "Alterando tipo da data que ta String"
      ],
      "metadata": {
        "id": "1lV7bUacCsDc"
      }
    },
    {
      "cell_type": "code",
      "source": [],
      "metadata": {
        "id": "uQA1NtFOGnTd"
      },
      "execution_count": null,
      "outputs": []
    }
  ]
}